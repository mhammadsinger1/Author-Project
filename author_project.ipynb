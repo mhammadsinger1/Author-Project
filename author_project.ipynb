{
  "nbformat": 4,
  "nbformat_minor": 0,
  "metadata": {
    "colab": {
      "provenance": []
    },
    "kernelspec": {
      "name": "python3",
      "display_name": "Python 3"
    },
    "language_info": {
      "name": "python"
    }
  },
  "cells": [
    {
      "cell_type": "code",
      "execution_count": 1,
      "metadata": {
        "colab": {
          "base_uri": "https://localhost:8080/"
        },
        "id": "WgbXDnH2_PR8",
        "outputId": "89d9d5bb-27bb-44aa-e0c0-16fcbb77e7a4"
      },
      "outputs": [
        {
          "output_type": "stream",
          "name": "stdout",
          "text": [
            "Mounted at /content/drive\n"
          ]
        },
        {
          "output_type": "execute_result",
          "data": {
            "text/plain": [
              "['train.json', 'test.json']"
            ]
          },
          "metadata": {},
          "execution_count": 1
        }
      ],
      "source": [
        "import os\n",
        "from google.colab import drive\n",
        "drive.mount('/content/drive')\n",
        "os.chdir(\"/content/drive/MyDrive/ML challenge\")\n",
        "os.listdir()\n"
      ]
    },
    {
      "cell_type": "code",
      "source": [
        "import json\n",
        "\n",
        "with open(\"/content/drive/MyDrive/ML challenge/train.json\") as json_file:      \n",
        "    test = json.load(json_file)\n",
        "for a in range(2):  \n",
        "    print(test[a]['abstract'])\n",
        "    "
      ],
      "metadata": {
        "colab": {
          "base_uri": "https://localhost:8080/"
        },
        "id": "Un5hGEVH_X_3",
        "outputId": "a85a45fd-2f64-440d-b308-a1f09233f5b6"
      },
      "execution_count": 2,
      "outputs": [
        {
          "output_type": "stream",
          "name": "stdout",
          "text": [
            "Children with autism spectrum disorder often exhibit idiosyncratic patterns of behaviors and interests. In this paper, we focus on measuring the presence of idiosyncratic interests at the linguistic level in children with autism using distributional semantic models. We model the semantic space of children’s narratives by calculating pairwise word overlap, and we compare the overlap found within and across diagnostic groups. We find that the words used by children with typical development tend to be used by other children with typical development, while the words used by children with autism overlap less with those used by children with typical development and even less with those used by other children with autism. These findings suggest that children with autism are veering not only away from the topic of the target narrative but also in idiosyncratic semantic directions potentially defined by their individual topics of interest.\n",
            "We present and compare two alternative deep neural architectures to perform word-level metaphor detection on text: a bi-LSTM model and a new structure based on recursive feed-forward concatenation of the input. We discuss different versions of such models and the effect that input manipulation - specifically, reducing the length of sentences and introducing concreteness scores for words - have on their performance.\n"
          ]
        }
      ]
    },
    {
      "cell_type": "code",
      "source": [
        "from nltk.tokenize import word_tokenize\n",
        "import nltk\n",
        "nltk.download('punkt')\n",
        "nltk.download('stopwords')\n",
        "from nltk.tokenize.treebank import TreebankWordDetokenizer\n",
        "import string\n",
        "from collections import Counter\n",
        "from nltk.corpus import stopwords \n",
        "from nltk.tokenize import word_tokenize\n",
        "s =  set(string.punctuation)          # !\"#$%&'()*+,-./:;<=>?@[\\]^_`{|}~\n",
        "stop_words = set(stopwords.words('english')) \n"
      ],
      "metadata": {
        "colab": {
          "base_uri": "https://localhost:8080/"
        },
        "id": "LhXUxGOm_YCf",
        "outputId": "09285f6d-570c-474f-bd20-fa3d3b14e672"
      },
      "execution_count": 3,
      "outputs": [
        {
          "output_type": "stream",
          "name": "stderr",
          "text": [
            "[nltk_data] Downloading package punkt to /root/nltk_data...\n",
            "[nltk_data]   Unzipping tokenizers/punkt.zip.\n",
            "[nltk_data] Downloading package stopwords to /root/nltk_data...\n",
            "[nltk_data]   Unzipping corpora/stopwords.zip.\n"
          ]
        }
      ]
    },
    {
      "cell_type": "code",
      "source": [
        "b=\"We present and compare two alternative deep neural architectures to perform word-level metaphor detection on text: a bi-LSTM model and a new structure based on recursive feed-forward concatenation of the input. We discuss different versions of such models and the effect that input manipulation - specifically, reducing the length of sentences and introducing concreteness scores for words - have on their performance.\"\n",
        "def filtering(a):\n",
        "  sentence=a.lower()\n",
        "  word_tokens = word_tokenize(sentence)\n",
        "  #remove stop words\n",
        "  filtered_sentence = [w for w in word_tokens if not w in stop_words] \n",
        "  #remove punctuation\n",
        "  filtered_sentence_no_punctuation=[]\n",
        "\n",
        "  for a in filtered_sentence:\n",
        "    if a not in s:\n",
        "      filtered_sentence_no_punctuation.append(a)\n",
        "\n",
        "\n",
        "  return(Counter(filtered_sentence_no_punctuation))   \n",
        "\n",
        "\n",
        "\n",
        "print(filtering(b))"
      ],
      "metadata": {
        "colab": {
          "base_uri": "https://localhost:8080/"
        },
        "id": "LcvLJZpK_YFH",
        "outputId": "403b136c-4f2d-4f51-9fec-8998bea17513"
      },
      "execution_count": 4,
      "outputs": [
        {
          "output_type": "stream",
          "name": "stdout",
          "text": [
            "Counter({'input': 2, 'present': 1, 'compare': 1, 'two': 1, 'alternative': 1, 'deep': 1, 'neural': 1, 'architectures': 1, 'perform': 1, 'word-level': 1, 'metaphor': 1, 'detection': 1, 'text': 1, 'bi-lstm': 1, 'model': 1, 'new': 1, 'structure': 1, 'based': 1, 'recursive': 1, 'feed-forward': 1, 'concatenation': 1, 'discuss': 1, 'different': 1, 'versions': 1, 'models': 1, 'effect': 1, 'manipulation': 1, 'specifically': 1, 'reducing': 1, 'length': 1, 'sentences': 1, 'introducing': 1, 'concreteness': 1, 'scores': 1, 'words': 1, 'performance': 1})\n"
          ]
        }
      ]
    },
    {
      "cell_type": "code",
      "source": [],
      "metadata": {
        "id": "M5oKs-9m_YHt"
      },
      "execution_count": null,
      "outputs": []
    },
    {
      "cell_type": "code",
      "source": [],
      "metadata": {
        "id": "504ec-jt_YKG"
      },
      "execution_count": null,
      "outputs": []
    },
    {
      "cell_type": "code",
      "source": [],
      "metadata": {
        "id": "HxbxomMD_YMe"
      },
      "execution_count": null,
      "outputs": []
    },
    {
      "cell_type": "code",
      "source": [],
      "metadata": {
        "id": "7db0QdaP_YPG"
      },
      "execution_count": null,
      "outputs": []
    }
  ]
}